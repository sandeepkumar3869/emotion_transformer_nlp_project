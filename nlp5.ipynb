{
 "cells": [
  {
   "cell_type": "code",
   "execution_count": 1,
   "metadata": {},
   "outputs": [
    {
     "name": "stderr",
     "output_type": "stream",
     "text": [
      "/opt/anaconda3/lib/python3.11/site-packages/transformers/tokenization_utils_base.py:1601: FutureWarning: `clean_up_tokenization_spaces` was not set. It will be set to `True` by default. This behavior will be depracted in transformers v4.45, and will be then set to `False` by default. For more details check this issue: https://github.com/huggingface/transformers/issues/31884\n",
      "  warnings.warn(\n"
     ]
    },
    {
     "name": "stdout",
     "output_type": "stream",
     "text": [
      "Translating to Hindi...\n"
     ]
    },
    {
     "name": "stderr",
     "output_type": "stream",
     "text": [
      "/opt/anaconda3/lib/python3.11/site-packages/transformers/generation/utils.py:1375: UserWarning: You have modified the pretrained model configuration to control generation. This is a deprecated strategy to control generation and will be removed soon, in a future version. Please use and modify the model generation configuration (see https://huggingface.co/docs/transformers/generation_strategies#default-text-generation-configuration )\n",
      "  warnings.warn(\n"
     ]
    }
   ],
   "source": [
    "\n",
    "from transformers import M2M100ForConditionalGeneration, M2M100Tokenizer\n",
    "from textblob import TextBlob\n",
    "from vaderSentiment.vaderSentiment import SentimentIntensityAnalyzer\n",
    "import torch\n",
    "\n",
    "# Initialize model and tokenizer (done once at the start)\n",
    "model_name = 'facebook/m2m100_418M'\n",
    "tokenizer = M2M100Tokenizer.from_pretrained(model_name)\n",
    "model = M2M100ForConditionalGeneration.from_pretrained(model_name)\n",
    "\n",
    "# Define the batch size\n",
    "batch_size = 16  # Adjust this based on your hardware capabilities\n",
    "\n",
    "# Function to analyze sentiment and categorize emotion\n",
    "def analyze_sentiment(text):\n",
    "    blob = TextBlob(text)\n",
    "    polarity = blob.sentiment.polarity\n",
    "    analyzer = SentimentIntensityAnalyzer()\n",
    "    vader_scores = analyzer.polarity_scores(text)\n",
    "    return polarity, vader_scores\n",
    "\n",
    "def categorize_emotion(polarity):\n",
    "    if polarity > 0:\n",
    "        return 'positive'\n",
    "    elif polarity < 0:\n",
    "        return 'negative'\n",
    "    else:\n",
    "        return 'neutral'\n",
    "\n",
    "# Batch translation function\n",
    "def translate_batch(texts, target_lang=\"hi\"):\n",
    "    tokenizer.src_lang = \"en\"\n",
    "    inputs = tokenizer(texts, return_tensors=\"pt\", padding=True, truncation=True)\n",
    "\n",
    "    # Set the target language\n",
    "    target_lang_id = tokenizer.get_lang_id(target_lang)\n",
    "    model.config.forced_bos_token_id = target_lang_id\n",
    "\n",
    "    # Perform batch translation\n",
    "    translated_tokens = model.generate(**inputs)\n",
    "    translated_texts = tokenizer.batch_decode(translated_tokens, skip_special_tokens=True)\n",
    "    return translated_texts\n",
    "\n",
    "# Optimized process_dataset function with batch processing\n",
    "def process_dataset(file_path, target_lang=\"hi\"):\n",
    "    with open(file_path, 'r') as file:\n",
    "        lines = [line.strip() for line in file.readlines()]\n",
    "\n",
    "    results = []\n",
    "    for i in range(0, len(lines), batch_size):\n",
    "        batch_lines = lines[i:i+batch_size]\n",
    "        translated_texts = translate_batch(batch_lines, target_lang=target_lang)\n",
    "\n",
    "        for original, translated in zip(batch_lines, translated_texts):\n",
    "            polarity, vader_scores = analyze_sentiment(original)\n",
    "            emotion = categorize_emotion(polarity)\n",
    "            results.append((original, translated, emotion, vader_scores))\n",
    "    \n",
    "    return results\n",
    "\n",
    "# List of target languages with their codes\n",
    "target_languages = {\n",
    "    \"Hindi\": \"hi\",\n",
    "    \"Tamil\": \"ta\",\n",
    "    \"Spanish\": \"es\",\n",
    "    \"French\": \"fr\",\n",
    "    \"German\": \"de\",\n",
    "    \"Chinese\": \"zh\"\n",
    "}\n",
    "\n",
    "# Translate the dataset into all specified languages\n",
    "for lang_name, lang_code in target_languages.items():\n",
    "    print(f\"Translating to {lang_name}...\")\n",
    "    train_results = process_dataset('clean_train.txt', target_lang=lang_code)\n",
    "    test_results = process_dataset('clean_test.txt', target_lang=lang_code)\n",
    "    # test_results = process_dataset('clean_test.txt', target_lang=lang_code)\n",
    "    val_results = process_dataset('clean_val.txt', target_lang=lang_code)\n",
    "\n",
    "    # You can save or further process `train_results` and `test_results` for each language\n",
    "    with open(f'final_train_results_{lang_code}.txt', 'w') as f:\n",
    "        for original, translated, emotion, vader_scores in train_results:\n",
    "            f.write(f\"Original: {original}\\n\")\n",
    "            f.write(f\"Translated ({lang_name}): {translated}\\n\")\n",
    "            f.write(f\"Emotion: {emotion}\\n\")\n",
    "            f.write(f\"VADER Scores: {vader_scores}\\n\")\n",
    "            f.write(\"-\" * 50 + \"\\n\")\n",
    "\n",
    "    with open(f'final_test_results_{lang_code}.txt', 'w') as f:\n",
    "        for original, translated, emotion, vader_scores in test_results:\n",
    "            f.write(f\"Original: {original}\\n\")\n",
    "            f.write(f\"Translated ({lang_name}): {translated}\\n\")\n",
    "            f.write(f\"Emotion: {emotion}\\n\")\n",
    "            f.write(f\"VADER Scores: {vader_scores}\\n\")\n",
    "            f.write(\"-\" * 50 + \"\\n\")\n"
   ]
  },
  {
   "cell_type": "code",
   "execution_count": null,
   "metadata": {},
   "outputs": [],
   "source": [
    "import pickle\n",
    "with open('model5.pickle','wb') as f:\n",
    "    pickle.dump(model,f)"
   ]
  }
 ],
 "metadata": {
  "kernelspec": {
   "display_name": "base",
   "language": "python",
   "name": "python3"
  },
  "language_info": {
   "codemirror_mode": {
    "name": "ipython",
    "version": 3
   },
   "file_extension": ".py",
   "mimetype": "text/x-python",
   "name": "python",
   "nbconvert_exporter": "python",
   "pygments_lexer": "ipython3",
   "version": "3.11.7"
  }
 },
 "nbformat": 4,
 "nbformat_minor": 2
}
